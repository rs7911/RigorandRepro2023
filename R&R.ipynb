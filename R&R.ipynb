{
  "nbformat": 4,
  "nbformat_minor": 0,
  "metadata": {
    "colab": {
      "provenance": []
    },
    "kernelspec": {
      "name": "python3",
      "display_name": "Python 3"
    },
    "language_info": {
      "name": "python"
    }
  },
  "cells": [
    {
      "cell_type": "code",
      "source": [],
      "metadata": {
        "id": "ZodFZjqzA22K"
      },
      "execution_count": null,
      "outputs": []
    },
    {
      "cell_type": "code",
      "execution_count": null,
      "metadata": {
        "colab": {
          "base_uri": "https://localhost:8080/"
        },
        "id": "622wXNiAlcTR",
        "outputId": "78b9aac8-9487-4c45-895e-0e050c876d9b"
      },
      "outputs": [
        {
          "output_type": "stream",
          "name": "stdout",
          "text": [
            "Today is 11/09/2023\n"
          ]
        }
      ],
      "source": [
        "print(\"Today is 11/09/2023\")\n"
      ]
    },
    {
      "cell_type": "markdown",
      "source": [
        "Now we will add some simple arithmetic operations"
      ],
      "metadata": {
        "id": "DFqTr1Folh9M"
      }
    },
    {
      "cell_type": "code",
      "source": [
        " 2*5"
      ],
      "metadata": {
        "colab": {
          "base_uri": "https://localhost:8080/"
        },
        "id": "ZZJYv5qWljki",
        "outputId": "067ce148-24ec-47a4-ddba-d1fda2b64be2"
      },
      "execution_count": null,
      "outputs": [
        {
          "output_type": "execute_result",
          "data": {
            "text/plain": [
              "10"
            ]
          },
          "metadata": {},
          "execution_count": 4
        }
      ]
    },
    {
      "cell_type": "markdown",
      "source": [
        "Now we will write our brief reflection:\n",
        "\n",
        "Using repositories, track changes, and publishing on platforms like GitHub can be useful to help with computational reproducibility. Repositories such as Github will allow one to create a respository that is public or private, allowing one to either look back at their own files. This is a back-up as well, as it's stored on github's servers. Additionally, track changes can be used to see when and what was actually changed. This allows researchers the ability to log all of their computational analysis, and publish it so other researchers can reproduce the same results."
      ],
      "metadata": {
        "id": "AuNmRjD9mcFR"
      }
    },
    {
      "cell_type": "markdown",
      "source": [],
      "metadata": {
        "id": "qsaSpN1iA1_G"
      }
    }
  ]
}